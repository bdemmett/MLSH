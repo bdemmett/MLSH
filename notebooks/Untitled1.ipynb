{
 "cells": [
  {
   "cell_type": "code",
   "execution_count": 4,
   "id": "bec6aa72-6165-4958-ae1a-ce007a8be90f",
   "metadata": {},
   "outputs": [
    {
     "name": "stdout",
     "output_type": "stream",
     "text": [
      "/bin/bash: line 1: usearch: command not found\n"
     ]
    }
   ],
   "source": [
    "!module load usearch\n",
    "!usearch -help"
   ]
  },
  {
   "cell_type": "code",
   "execution_count": 3,
   "id": "3aec4488-941a-4f3f-ab26-3011b791d127",
   "metadata": {},
   "outputs": [
    {
     "name": "stdout",
     "output_type": "stream",
     "text": [
      "/bin/bash: line 1: usearch: command not found\n"
     ]
    }
   ],
   "source": [
    "!usearch -help"
   ]
  }
 ],
 "metadata": {
  "kernelspec": {
   "display_name": "myenv",
   "language": "python",
   "name": "myenv"
  },
  "language_info": {
   "codemirror_mode": {
    "name": "ipython",
    "version": 3
   },
   "file_extension": ".py",
   "mimetype": "text/x-python",
   "name": "python",
   "nbconvert_exporter": "python",
   "pygments_lexer": "ipython3",
   "version": "3.10.8"
  }
 },
 "nbformat": 4,
 "nbformat_minor": 5
}
