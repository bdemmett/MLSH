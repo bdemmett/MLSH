{
 "cells": [
  {
   "cell_type": "markdown",
   "id": "d59eb3b8",
   "metadata": {},
   "source": [
    "# Trial QIIME2 workflow"
   ]
  },
  {
   "cell_type": "code",
   "execution_count": null,
   "id": "f7465eb2-6dbb-429b-b9bb-1a32a72fbc78",
   "metadata": {},
   "outputs": [],
   "source": []
  },
  {
   "cell_type": "code",
   "execution_count": 1,
   "id": "a24fa246",
   "metadata": {},
   "outputs": [],
   "source": [
    "import os"
   ]
  },
  {
   "cell_type": "code",
   "execution_count": null,
   "id": "e35b0e8c",
   "metadata": {},
   "outputs": [],
   "source": [
    "%%bash\n",
    "\n",
    "qiime tools import \\\n",
    "--type 'SampleData[PairedEndSequencesWithQuality]' \\\n",
    "--input-path /project/mmicrobe/MLSH/16S/16S_QIIMEManifest.txt \\\n",
    "--output-path /project/mmicrobe/MLSH/16S/paired-end-demux.qza \\\n",
    "--input-format PairedEndFastqManifestPhred33V2"
   ]
  },
  {
   "cell_type": "code",
   "execution_count": null,
   "id": "e61dda18-7d7d-45ab-9e6c-996cc6c9dfa9",
   "metadata": {},
   "outputs": [],
   "source": [
    "%%bash\n",
    "qiime demux summarize \\\n",
    "--i-data /project/mmicrobe/MLSH/16S/paired-end-demux.qza \\\n",
    "--o-visualization /project/mmicrobe/MLSH/16S/demux.qzv"
   ]
  }
 ],
 "metadata": {
  "kernelspec": {
   "display_name": "Python 3 (ipykernel)",
   "language": "python",
   "name": "python3"
  },
  "language_info": {
   "codemirror_mode": {
    "name": "ipython",
    "version": 3
   },
   "file_extension": ".py",
   "mimetype": "text/x-python",
   "name": "python",
   "nbconvert_exporter": "python",
   "pygments_lexer": "ipython3",
   "version": "3.10.8"
  }
 },
 "nbformat": 4,
 "nbformat_minor": 5
}
