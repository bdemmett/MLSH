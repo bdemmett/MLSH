{
 "cells": [
  {
   "cell_type": "markdown",
   "id": "d59eb3b8",
   "metadata": {},
   "source": [
    "# Trial QIIME2 workflow"
   ]
  },
  {
   "cell_type": "code",
   "execution_count": null,
   "id": "f7465eb2-6dbb-429b-b9bb-1a32a72fbc78",
   "metadata": {},
   "outputs": [],
   "source": []
  },
  {
   "cell_type": "code",
   "execution_count": 1,
   "id": "a24fa246",
   "metadata": {},
   "outputs": [],
   "source": [
    "import os"
   ]
  },
  {
   "cell_type": "code",
   "execution_count": 5,
   "id": "e35b0e8c",
   "metadata": {},
   "outputs": [
    {
     "name": "stdout",
     "output_type": "stream",
     "text": [
      "Imported /project/mmicrobe/MLSH/16S/16S_QIIMEManifest.txt as PairedEndFastqManifestPhred33V2 to /project/mmicrobe/MLSH/16S/paired-end-demux.qza\n"
     ]
    }
   ],
   "source": [
    "%%bash\n",
    "\n",
    "qiime tools import \\\n",
    "--type 'SampleData[PairedEndSequencesWithQuality]' \\\n",
    "--input-path /project/mmicrobe/MLSH/16S/16S_QIIMEManifest.txt \\\n",
    "--output-path /project/mmicrobe/MLSH/16S/paired-end-demux.qza \\\n",
    "--input-format PairedEndFastqManifestPhred33V2"
   ]
  },
  {
   "cell_type": "code",
   "execution_count": 6,
   "id": "e61dda18-7d7d-45ab-9e6c-996cc6c9dfa9",
   "metadata": {},
   "outputs": [
    {
     "name": "stdout",
     "output_type": "stream",
     "text": [
      "Saved Visualization to: /project/mmicrobe/MLSH/16S/demux.qzv\n"
     ]
    }
   ],
   "source": [
    "%%bash\n",
    "qiime demux summarize \\\n",
    "--i-data /project/mmicrobe/MLSH/16S/paired-end-demux.qza \\\n",
    "--o-visualization /project/mmicrobe/MLSH/16S/demux.qzv"
   ]
  },
  {
   "cell_type": "markdown",
   "id": "ee02fdb5-0cd8-432e-b69a-6ffbb33537c0",
   "metadata": {},
   "source": [
    "Viewed in view.qiime2.org to see summary of reads and quality profiles. The median is above "
   ]
  },
  {
   "cell_type": "code",
   "execution_count": null,
   "id": "4aed4f01-fd68-4768-a132-f3a8075bcf13",
   "metadata": {},
   "outputs": [],
   "source": [
    "Slow step, next time try adding --p-n-"
   ]
  },
  {
   "cell_type": "code",
   "execution_count": 7,
   "id": "dd4ab34e-51c4-469b-a8bb-ae9d5718f481",
   "metadata": {},
   "outputs": [
    {
     "name": "stdout",
     "output_type": "stream",
     "text": [
      "Saved FeatureTable[Frequency] to: table.qza\n",
      "Saved FeatureData[Sequence] to: rep-seqs.qza\n",
      "Saved SampleData[DADA2Stats] to: denoising-stats.qza\n"
     ]
    }
   ],
   "source": [
    "%%bash\n",
    "cd /project/mmicrobe/MLSH/16S\n",
    "\n",
    "qiime dada2 denoise-paired \\\n",
    "--i-demultiplexed-seqs paired-end-demux.qza \\\n",
    "--p-trunc-len-f 225 \\\n",
    "--p-trunc-len-r 140 \\\n",
    "--o-table table.qza \\\n",
    "--o-representative-sequences rep-seqs.qza \\\n",
    "--o-denoising-stats denoising-stats.qza"
   ]
  },
  {
   "cell_type": "code",
   "execution_count": 8,
   "id": "9061045c-0f1d-4752-8121-44bb7443b7ea",
   "metadata": {},
   "outputs": [
    {
     "name": "stdout",
     "output_type": "stream",
     "text": [
      "Saved Visualization to: denoising-stats-summ.qzv\n"
     ]
    }
   ],
   "source": [
    "%%bash\n",
    "cd /project/mmicrobe/MLSH/16S\n",
    "\n",
    "qiime metadata tabulate \\\n",
    "  --m-input-file denoising-stats.qza \\\n",
    "  --o-visualization denoising-stats-summ.qzv"
   ]
  },
  {
   "cell_type": "code",
   "execution_count": 9,
   "id": "3e7e64c1-085b-4ea3-8b15-33d2e2ca6f82",
   "metadata": {},
   "outputs": [
    {
     "name": "stdout",
     "output_type": "stream",
     "text": [
      "1_56824_Lane1_L2J5W_2333.tar  denoising-stats.qza\traw\n",
      "16S_QIIMEManifest.txt\t      denoising-stats-summ.qzv\trep-seqs.qza\n",
      "demux.qzv\t\t      paired-end-demux.qza\ttable.qza\n"
     ]
    }
   ],
   "source": [
    "!ls /project/mmicrobe/MLSH/16S/"
   ]
  },
  {
   "cell_type": "code",
   "execution_count": 10,
   "id": "e15e62be-d75c-485d-b2ef-32e15b8fb4ac",
   "metadata": {},
   "outputs": [
    {
     "name": "stdout",
     "output_type": "stream",
     "text": [
      "Saved Visualization to: feature-table-summ.qzv\n",
      "Saved Visualization to: rep-seqs-summ.qzv\n"
     ]
    }
   ],
   "source": [
    "%%bash\n",
    "cd /project/mmicrobe/MLSH/16S\n",
    "\n",
    "qiime feature-table summarize \\\n",
    "  --i-table table.qza \\\n",
    "  --o-visualization feature-table-summ.qzv\n",
    "qiime feature-table tabulate-seqs \\\n",
    "  --i-data rep-seqs.qza \\\n",
    "  --o-visualization rep-seqs-summ.qzv\n",
    "\n"
   ]
  },
  {
   "cell_type": "code",
   "execution_count": 11,
   "id": "05c33d3f-5532-481c-89f9-0bde61ff7880",
   "metadata": {},
   "outputs": [
    {
     "name": "stdout",
     "output_type": "stream",
     "text": [
      "Saved FeatureData[AlignedSequence] to: aligned-rep-seqs.qza\n",
      "Saved FeatureData[AlignedSequence] to: masked-aligned-rep-seqs.qza\n",
      "Saved Phylogeny[Unrooted] to: unrooted-tree.qza\n",
      "Saved Phylogeny[Rooted] to: rooted-tree.qza\n"
     ]
    },
    {
     "name": "stderr",
     "output_type": "stream",
     "text": [
      "bash: line 9: --p-n-threads: command not found\n"
     ]
    },
    {
     "ename": "CalledProcessError",
     "evalue": "Command 'b'cd /project/mmicrobe/MLSH/16S/\\n\\nqiime phylogeny align-to-tree-mafft-fasttree \\\\\\n--i-sequences rep-seqs.qza \\\\\\n--o-alignment aligned-rep-seqs.qza \\\\\\n--o-masked-alignment masked-aligned-rep-seqs.qza \\\\\\n--o-tree unrooted-tree.qza \\\\\\n--o-rooted-tree rooted-tree.qza\\n--p-n-threads 24\\n'' returned non-zero exit status 127.",
     "output_type": "error",
     "traceback": [
      "\u001b[0;31m---------------------------------------------------------------------------\u001b[0m",
      "\u001b[0;31mCalledProcessError\u001b[0m                        Traceback (most recent call last)",
      "Cell \u001b[0;32mIn[11], line 1\u001b[0m\n\u001b[0;32m----> 1\u001b[0m \u001b[43mget_ipython\u001b[49m\u001b[43m(\u001b[49m\u001b[43m)\u001b[49m\u001b[38;5;241;43m.\u001b[39;49m\u001b[43mrun_cell_magic\u001b[49m\u001b[43m(\u001b[49m\u001b[38;5;124;43m'\u001b[39;49m\u001b[38;5;124;43mbash\u001b[39;49m\u001b[38;5;124;43m'\u001b[39;49m\u001b[43m,\u001b[49m\u001b[43m \u001b[49m\u001b[38;5;124;43m'\u001b[39;49m\u001b[38;5;124;43m'\u001b[39;49m\u001b[43m,\u001b[49m\u001b[43m \u001b[49m\u001b[38;5;124;43m'\u001b[39;49m\u001b[38;5;124;43mcd /project/mmicrobe/MLSH/16S/\u001b[39;49m\u001b[38;5;130;43;01m\\n\u001b[39;49;00m\u001b[38;5;130;43;01m\\n\u001b[39;49;00m\u001b[38;5;124;43mqiime phylogeny align-to-tree-mafft-fasttree \u001b[39;49m\u001b[38;5;130;43;01m\\\\\u001b[39;49;00m\u001b[38;5;130;43;01m\\n\u001b[39;49;00m\u001b[38;5;124;43m--i-sequences rep-seqs.qza \u001b[39;49m\u001b[38;5;130;43;01m\\\\\u001b[39;49;00m\u001b[38;5;130;43;01m\\n\u001b[39;49;00m\u001b[38;5;124;43m--o-alignment aligned-rep-seqs.qza \u001b[39;49m\u001b[38;5;130;43;01m\\\\\u001b[39;49;00m\u001b[38;5;130;43;01m\\n\u001b[39;49;00m\u001b[38;5;124;43m--o-masked-alignment masked-aligned-rep-seqs.qza \u001b[39;49m\u001b[38;5;130;43;01m\\\\\u001b[39;49;00m\u001b[38;5;130;43;01m\\n\u001b[39;49;00m\u001b[38;5;124;43m--o-tree unrooted-tree.qza \u001b[39;49m\u001b[38;5;130;43;01m\\\\\u001b[39;49;00m\u001b[38;5;130;43;01m\\n\u001b[39;49;00m\u001b[38;5;124;43m--o-rooted-tree rooted-tree.qza\u001b[39;49m\u001b[38;5;130;43;01m\\n\u001b[39;49;00m\u001b[38;5;124;43m--p-n-threads 24\u001b[39;49m\u001b[38;5;130;43;01m\\n\u001b[39;49;00m\u001b[38;5;124;43m'\u001b[39;49m\u001b[43m)\u001b[49m\n",
      "File \u001b[0;32m~/.conda/envs/myenv/lib/python3.10/site-packages/IPython/core/interactiveshell.py:2478\u001b[0m, in \u001b[0;36mInteractiveShell.run_cell_magic\u001b[0;34m(self, magic_name, line, cell)\u001b[0m\n\u001b[1;32m   2476\u001b[0m \u001b[38;5;28;01mwith\u001b[39;00m \u001b[38;5;28mself\u001b[39m\u001b[38;5;241m.\u001b[39mbuiltin_trap:\n\u001b[1;32m   2477\u001b[0m     args \u001b[38;5;241m=\u001b[39m (magic_arg_s, cell)\n\u001b[0;32m-> 2478\u001b[0m     result \u001b[38;5;241m=\u001b[39m \u001b[43mfn\u001b[49m\u001b[43m(\u001b[49m\u001b[38;5;241;43m*\u001b[39;49m\u001b[43margs\u001b[49m\u001b[43m,\u001b[49m\u001b[43m \u001b[49m\u001b[38;5;241;43m*\u001b[39;49m\u001b[38;5;241;43m*\u001b[39;49m\u001b[43mkwargs\u001b[49m\u001b[43m)\u001b[49m\n\u001b[1;32m   2480\u001b[0m \u001b[38;5;66;03m# The code below prevents the output from being displayed\u001b[39;00m\n\u001b[1;32m   2481\u001b[0m \u001b[38;5;66;03m# when using magics with decodator @output_can_be_silenced\u001b[39;00m\n\u001b[1;32m   2482\u001b[0m \u001b[38;5;66;03m# when the last Python token in the expression is a ';'.\u001b[39;00m\n\u001b[1;32m   2483\u001b[0m \u001b[38;5;28;01mif\u001b[39;00m \u001b[38;5;28mgetattr\u001b[39m(fn, magic\u001b[38;5;241m.\u001b[39mMAGIC_OUTPUT_CAN_BE_SILENCED, \u001b[38;5;28;01mFalse\u001b[39;00m):\n",
      "File \u001b[0;32m~/.conda/envs/myenv/lib/python3.10/site-packages/IPython/core/magics/script.py:154\u001b[0m, in \u001b[0;36mScriptMagics._make_script_magic.<locals>.named_script_magic\u001b[0;34m(line, cell)\u001b[0m\n\u001b[1;32m    152\u001b[0m \u001b[38;5;28;01melse\u001b[39;00m:\n\u001b[1;32m    153\u001b[0m     line \u001b[38;5;241m=\u001b[39m script\n\u001b[0;32m--> 154\u001b[0m \u001b[38;5;28;01mreturn\u001b[39;00m \u001b[38;5;28;43mself\u001b[39;49m\u001b[38;5;241;43m.\u001b[39;49m\u001b[43mshebang\u001b[49m\u001b[43m(\u001b[49m\u001b[43mline\u001b[49m\u001b[43m,\u001b[49m\u001b[43m \u001b[49m\u001b[43mcell\u001b[49m\u001b[43m)\u001b[49m\n",
      "File \u001b[0;32m~/.conda/envs/myenv/lib/python3.10/site-packages/IPython/core/magics/script.py:314\u001b[0m, in \u001b[0;36mScriptMagics.shebang\u001b[0;34m(self, line, cell)\u001b[0m\n\u001b[1;32m    309\u001b[0m \u001b[38;5;28;01mif\u001b[39;00m args\u001b[38;5;241m.\u001b[39mraise_error \u001b[38;5;129;01mand\u001b[39;00m p\u001b[38;5;241m.\u001b[39mreturncode \u001b[38;5;241m!=\u001b[39m \u001b[38;5;241m0\u001b[39m:\n\u001b[1;32m    310\u001b[0m     \u001b[38;5;66;03m# If we get here and p.returncode is still None, we must have\u001b[39;00m\n\u001b[1;32m    311\u001b[0m     \u001b[38;5;66;03m# killed it but not yet seen its return code. We don't wait for it,\u001b[39;00m\n\u001b[1;32m    312\u001b[0m     \u001b[38;5;66;03m# in case it's stuck in uninterruptible sleep. -9 = SIGKILL\u001b[39;00m\n\u001b[1;32m    313\u001b[0m     rc \u001b[38;5;241m=\u001b[39m p\u001b[38;5;241m.\u001b[39mreturncode \u001b[38;5;129;01mor\u001b[39;00m \u001b[38;5;241m-\u001b[39m\u001b[38;5;241m9\u001b[39m\n\u001b[0;32m--> 314\u001b[0m     \u001b[38;5;28;01mraise\u001b[39;00m CalledProcessError(rc, cell)\n",
      "\u001b[0;31mCalledProcessError\u001b[0m: Command 'b'cd /project/mmicrobe/MLSH/16S/\\n\\nqiime phylogeny align-to-tree-mafft-fasttree \\\\\\n--i-sequences rep-seqs.qza \\\\\\n--o-alignment aligned-rep-seqs.qza \\\\\\n--o-masked-alignment masked-aligned-rep-seqs.qza \\\\\\n--o-tree unrooted-tree.qza \\\\\\n--o-rooted-tree rooted-tree.qza\\n--p-n-threads 24\\n'' returned non-zero exit status 127."
     ]
    }
   ],
   "source": [
    "%%bash\n",
    "cd /project/mmicrobe/MLSH/16S/\n",
    "\n",
    "qiime phylogeny align-to-tree-mafft-fasttree \\\n",
    "--i-sequences rep-seqs.qza \\\n",
    "--o-alignment aligned-rep-seqs.qza \\\n",
    "--o-masked-alignment masked-aligned-rep-seqs.qza \\\n",
    "--o-tree unrooted-tree.qza \\\n",
    "--o-rooted-tree rooted-tree.qza \\\n",
    "--p-n-threads 24"
   ]
  },
  {
   "cell_type": "markdown",
   "id": "bab38ef0-7bcd-4cde-b61b-94f314ec57d6",
   "metadata": {},
   "source": [
    "# Classify Seqs"
   ]
  },
  {
   "cell_type": "code",
   "execution_count": null,
   "id": "461a5433-dea1-4b8c-9f9b-888465d147c4",
   "metadata": {},
   "outputs": [],
   "source": [
    "%%bash\n",
    "\n",
    "WorkDir=\"/project/mmicrobe/MLSH/16S\"\n",
    "ClassDir = \"/project/mmicrobe/databases/16S_taxonomy\"\n",
    "\n",
    "qiime feature-classifier classify-sklearn \\\n",
    "  --i-classifier $ClassDir/Silva-138-99-515-806.classifier.qza \\\n",
    "  --i-reads $WorkDir/rep-seqs.qza \\\n",
    "  --o-classification $WorkDir/taxonomy.qza\n",
    "\n",
    "qiime metadata tabulate \\\n",
    "  --m-input-file $WorkDir/taxonomy.qza \\\n",
    "  --o-visualization $WorkDir/taxonomy.qzv"
   ]
  }
 ],
 "metadata": {
  "kernelspec": {
   "display_name": "qiime2-2023.2",
   "language": "python",
   "name": "qiime2-2023.2"
  },
  "language_info": {
   "codemirror_mode": {
    "name": "ipython",
    "version": 3
   },
   "file_extension": ".py",
   "mimetype": "text/x-python",
   "name": "python",
   "nbconvert_exporter": "python",
   "pygments_lexer": "ipython3",
   "version": "3.8.15"
  }
 },
 "nbformat": 4,
 "nbformat_minor": 5
}
