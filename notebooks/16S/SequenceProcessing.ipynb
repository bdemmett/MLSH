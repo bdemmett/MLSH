{
 "cells": [
  {
   "cell_type": "markdown",
   "id": "d59eb3b8",
   "metadata": {},
   "source": [
    "# Trial QIIME2 workflow"
   ]
  },
  {
   "cell_type": "code",
   "execution_count": null,
   "id": "f7465eb2-6dbb-429b-b9bb-1a32a72fbc78",
   "metadata": {},
   "outputs": [],
   "source": []
  },
  {
   "cell_type": "code",
   "execution_count": 1,
   "id": "a24fa246",
   "metadata": {},
   "outputs": [],
   "source": [
    "import os"
   ]
  },
  {
   "cell_type": "code",
   "execution_count": 5,
   "id": "e35b0e8c",
   "metadata": {},
   "outputs": [
    {
     "name": "stdout",
     "output_type": "stream",
     "text": [
      "Imported /project/mmicrobe/MLSH/16S/16S_QIIMEManifest.txt as PairedEndFastqManifestPhred33V2 to /project/mmicrobe/MLSH/16S/paired-end-demux.qza\n"
     ]
    }
   ],
   "source": [
    "%%bash\n",
    "\n",
    "qiime tools import \\\n",
    "--type 'SampleData[PairedEndSequencesWithQuality]' \\\n",
    "--input-path /project/mmicrobe/MLSH/16S/16S_QIIMEManifest.txt \\\n",
    "--output-path /project/mmicrobe/MLSH/16S/paired-end-demux.qza \\\n",
    "--input-format PairedEndFastqManifestPhred33V2"
   ]
  },
  {
   "cell_type": "code",
   "execution_count": 6,
   "id": "e61dda18-7d7d-45ab-9e6c-996cc6c9dfa9",
   "metadata": {},
   "outputs": [
    {
     "name": "stdout",
     "output_type": "stream",
     "text": [
      "Saved Visualization to: /project/mmicrobe/MLSH/16S/demux.qzv\n"
     ]
    }
   ],
   "source": [
    "%%bash\n",
    "qiime demux summarize \\\n",
    "--i-data /project/mmicrobe/MLSH/16S/paired-end-demux.qza \\\n",
    "--o-visualization /project/mmicrobe/MLSH/16S/demux.qzv"
   ]
  },
  {
   "cell_type": "markdown",
   "id": "ee02fdb5-0cd8-432e-b69a-6ffbb33537c0",
   "metadata": {},
   "source": [
    "Viewed in view.qiime2.org to see summary of reads and quality profiles. The median is above "
   ]
  },
  {
   "cell_type": "code",
   "execution_count": null,
   "id": "4aed4f01-fd68-4768-a132-f3a8075bcf13",
   "metadata": {},
   "outputs": [],
   "source": [
    "Slow step, next time try adding --p-n-"
   ]
  },
  {
   "cell_type": "code",
   "execution_count": 7,
   "id": "dd4ab34e-51c4-469b-a8bb-ae9d5718f481",
   "metadata": {},
   "outputs": [
    {
     "name": "stdout",
     "output_type": "stream",
     "text": [
      "Saved FeatureTable[Frequency] to: table.qza\n",
      "Saved FeatureData[Sequence] to: rep-seqs.qza\n",
      "Saved SampleData[DADA2Stats] to: denoising-stats.qza\n"
     ]
    }
   ],
   "source": [
    "%%bash\n",
    "cd /project/mmicrobe/MLSH/16S\n",
    "\n",
    "qiime dada2 denoise-paired \\\n",
    "--i-demultiplexed-seqs paired-end-demux.qza \\\n",
    "--p-trunc-len-f 225 \\\n",
    "--p-trunc-len-r 140 \\\n",
    "--o-table table.qza \\\n",
    "--o-representative-sequences rep-seqs.qza \\\n",
    "--o-denoising-stats denoising-stats.qza"
   ]
  },
  {
   "cell_type": "code",
   "execution_count": 8,
   "id": "9061045c-0f1d-4752-8121-44bb7443b7ea",
   "metadata": {},
   "outputs": [
    {
     "name": "stdout",
     "output_type": "stream",
     "text": [
      "Saved Visualization to: denoising-stats-summ.qzv\n"
     ]
    }
   ],
   "source": [
    "%%bash\n",
    "cd /project/mmicrobe/MLSH/16S\n",
    "\n",
    "qiime metadata tabulate \\\n",
    "  --m-input-file denoising-stats.qza \\\n",
    "  --o-visualization denoising-stats-summ.qzv"
   ]
  },
  {
   "cell_type": "code",
   "execution_count": 9,
   "id": "3e7e64c1-085b-4ea3-8b15-33d2e2ca6f82",
   "metadata": {},
   "outputs": [
    {
     "name": "stdout",
     "output_type": "stream",
     "text": [
      "1_56824_Lane1_L2J5W_2333.tar  denoising-stats.qza\traw\n",
      "16S_QIIMEManifest.txt\t      denoising-stats-summ.qzv\trep-seqs.qza\n",
      "demux.qzv\t\t      paired-end-demux.qza\ttable.qza\n"
     ]
    }
   ],
   "source": [
    "!ls /project/mmicrobe/MLSH/16S/"
   ]
  },
  {
   "cell_type": "code",
   "execution_count": 10,
   "id": "e15e62be-d75c-485d-b2ef-32e15b8fb4ac",
   "metadata": {},
   "outputs": [
    {
     "name": "stdout",
     "output_type": "stream",
     "text": [
      "Saved Visualization to: feature-table-summ.qzv\n",
      "Saved Visualization to: rep-seqs-summ.qzv\n"
     ]
    }
   ],
   "source": [
    "%%bash\n",
    "cd /project/mmicrobe/MLSH/16S\n",
    "\n",
    "qiime feature-table summarize \\\n",
    "  --i-table table.qza \\\n",
    "  --o-visualization feature-table-summ.qzv\n",
    "qiime feature-table tabulate-seqs \\\n",
    "  --i-data rep-seqs.qza \\\n",
    "  --o-visualization rep-seqs-summ.qzv\n",
    "\n"
   ]
  },
  {
   "cell_type": "code",
   "execution_count": null,
   "id": "05c33d3f-5532-481c-89f9-0bde61ff7880",
   "metadata": {},
   "outputs": [],
   "source": [
    "%%bash\n",
    "cd /project/mmicrobe/MLSH/16S/\n",
    "\n",
    "qiime phylogeny align-to-tree-mafft-fasttree \\\n",
    "--i-sequences rep-seqs.qza \\\n",
    "--o-alignment aligned-rep-seqs.qza \\\n",
    "--o-masked-alignment masked-aligned-rep-seqs.qza \\\n",
    "--o-tree unrooted-tree.qza \\\n",
    "--o-rooted-tree rooted-tree.qza \\\n",
    "--p-n-threads 24"
   ]
  },
  {
   "cell_type": "markdown",
   "id": "bab38ef0-7bcd-4cde-b61b-94f314ec57d6",
   "metadata": {},
   "source": [
    "# Classify Seqs"
   ]
  },
  {
   "cell_type": "code",
   "execution_count": null,
   "id": "461a5433-dea1-4b8c-9f9b-888465d147c4",
   "metadata": {},
   "outputs": [],
   "source": [
    "%%bash\n",
    "\n",
    "\n",
    "qiime feature-classifier classify-sklearn \\\n",
    "  --i-classifier /project/mmicrobe/databases/16S_taxonomy/Silva-138-99-515-806.classifier.qza\\\n",
    "  --i-reads /project/mmicrobe/MLSH/16S/rep-seqs.qza \\\n",
    "  --o-classification /project/mmicrobe/MLSH/16S/taxonomy.qza \n",
    "\n"
   ]
  },
  {
   "cell_type": "code",
   "execution_count": null,
   "id": "a7179e25-1c94-4bde-8d68-29f69fea82f5",
   "metadata": {},
   "outputs": [],
   "source": [
    "%%bash\n",
    "\n",
    "qiime metadata tabulate \\\n",
    "  --m-input-file /project/mmicrobe/MLSH/16S/taxonomy.qza \\\n",
    "  --o-visualization /project/mmicrobe/MLSH/16S/taxonomy.qzv"
   ]
  },
  {
   "cell_type": "markdown",
   "id": "9cd01cae-c913-4e07-97a0-d3ed11a93ee4",
   "metadata": {},
   "source": [
    "# Prepare phyloseq object"
   ]
  },
  {
   "cell_type": "code",
   "execution_count": 5,
   "id": "23e3f256-7c6f-4b87-bc48-3bf8941ee0ae",
   "metadata": {},
   "outputs": [
    {
     "name": "stdout",
     "output_type": "stream",
     "text": [
      "1_56824_Lane1_L2J5W_2333.tar\n",
      "16S_QIIMEManifest.txt\n",
      "aligned-rep-seqs.qza\n",
      "demux.qzv\n",
      "denoising-stats.qza\n",
      "denoising-stats-summ.qzv\n",
      "feature-table-summ.qzv\n",
      "masked-aligned-rep-seqs.qza\n",
      "paired-end-demux.qza\n",
      "raw\n",
      "rep-seqs.qza\n",
      "rep-seqs-summ.qzv\n",
      "rooted-tree.qza\n",
      "table.qza\n",
      "taxonomy.qza\n",
      "taxonomy.qzv\n",
      "unrooted-tree.qza\n"
     ]
    }
   ],
   "source": [
    "%%bash\n",
    "ls /project/mmicrobe/MLSH/16S/"
   ]
  }
 ],
 "metadata": {
  "kernelspec": {
   "display_name": "qiime2-2023.2",
   "language": "python",
   "name": "qiime2-2023.2"
  },
  "language_info": {
   "codemirror_mode": {
    "name": "ipython",
    "version": 3
   },
   "file_extension": ".py",
   "mimetype": "text/x-python",
   "name": "python",
   "nbconvert_exporter": "python",
   "pygments_lexer": "ipython3",
   "version": "3.8.15"
  }
 },
 "nbformat": 4,
 "nbformat_minor": 5
}
